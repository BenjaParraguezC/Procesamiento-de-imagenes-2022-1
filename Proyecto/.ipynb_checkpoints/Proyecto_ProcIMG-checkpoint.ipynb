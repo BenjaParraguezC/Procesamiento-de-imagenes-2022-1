{
 "cells": [
  {
   "cell_type": "code",
   "execution_count": 1,
   "metadata": {
    "colab": {
     "base_uri": "https://localhost:8080/",
     "height": 269
    },
    "id": "p2W0dfnFnAkL",
    "outputId": "438957b0-64e2-41a4-fa1f-a60c9b9346ca"
   },
   "outputs": [],
   "source": [
    "import cv2\n",
    "import numpy as np\n",
    "import numpy.matlib\n",
    "import matplotlib.pyplot as plt\n",
    "from skimage.io import imread_collection\n",
    "from sklearn.metrics import f1_score\n",
    "from scipy.ndimage import generic_filter"
   ]
  },
  {
   "cell_type": "code",
   "execution_count": 2,
   "metadata": {},
   "outputs": [],
   "source": [
    "def filtro_pto_medio(A):\n",
    "    S= 0.5*( np.max(A.flatten()) +  np.min(A.flatten())) \n",
    "    return S"
   ]
  },
  {
   "cell_type": "code",
   "execution_count": 3,
   "metadata": {
    "colab": {
     "base_uri": "https://localhost:8080/",
     "height": 269
    },
    "id": "xV3PAu7TpUVz",
    "outputId": "8c62b338-1083-415c-a578-02ee2b92896a"
   },
   "outputs": [],
   "source": [
    "def apertura(im):\n",
    "  R, G, B = cv2.split(im)\n",
    "\n",
    "  kernel= cv2.getStructuringElement(cv2.MORPH_CROSS, (12,12)) #crea un elemento, de un tamaño, que luego se usara para dilatar\n",
    "  \n",
    "  R_ero = cv2.dilate(R,kernel)\n",
    "  R_ape = cv2.erode(R_ero,kernel)\n",
    "\n",
    "  G_ero = cv2.dilate(G,kernel)\n",
    "  G_ape = cv2.erode(G_ero,kernel)\n",
    "\n",
    "  B_ero = cv2.dilate(B,kernel)\n",
    "  B_ape = cv2.erode(B_ero,kernel)\n",
    "  \n",
    "  im_apertura = cv2.merge([R_ape, R_ape, R_ape])\n",
    "\n",
    "  return im_apertura"
   ]
  },
  {
   "cell_type": "code",
   "execution_count": 4,
   "metadata": {},
   "outputs": [],
   "source": [
    "import cv2\n",
    "import numpy as np\n",
    "import matplotlib.pyplot as plt\n",
    "\n",
    "def f_score(bin, gt2):\n",
    "  #binarizamos\n",
    "  bin_gt = ((bin>1)*1).astype('int')\n",
    "  \n",
    "  output = ((gt2>1)*1).astype('int')\n",
    "\n",
    "  diferencia= bin_gt*2 - output\n",
    "\n",
    "  x, y= np.where(diferencia ==-1)\n",
    "  FP = len(x)\n",
    "  #print(FP)\n",
    "  x, y= np.where(diferencia == 1)\n",
    "  TP = len(x)\n",
    "  #print(TP)\n",
    "\n",
    "  x, y= np.where(diferencia == 2)\n",
    "  FN = len(x)\n",
    "  #print(FN)\n",
    "\n",
    "  x, y= np.where(diferencia == 0)\n",
    "  TN = len(x)\n",
    "  #print(TN)\n",
    "\n",
    "  R= TP/(FN+TP)\n",
    "  P= TP/(TP+FP)\n",
    "  RP = R+P\n",
    "  if  RP== 0:\n",
    "      f_score = 0\n",
    "      f_media.append(f_score)\n",
    "  else:  \n",
    "      f_score= 2* (R*P)/RP\n",
    "      print(f_score)\n",
    "      f_media.append(f_score)\n",
    "\n"
   ]
  },
  {
   "cell_type": "code",
   "execution_count": 5,
   "metadata": {},
   "outputs": [],
   "source": [
    "def outsu(img):\n",
    "    \n",
    "    bns= np.linspace(0,255,256,dtype='uint8')\n",
    "    h, bins = np.histogram(img, bins=bns)\n",
    "    P = h/np.sum(h)\n",
    "    \n",
    "    q1  = np.zeros([255])\n",
    "    q2  = np.zeros([255])\n",
    "    mu1 = np.zeros([255])\n",
    "    mu2 = np.zeros([255])\n",
    "    va1 = np.zeros([255])\n",
    "    va2 = np.zeros([255])\n",
    "    #plt.figure()\n",
    "\n",
    "    for t in range(1,255):\n",
    "        iL= np.linspace(0,t-1,t,dtype='uint8')\n",
    "        iR= np.linspace(t,254,255-t,dtype='uint8')\n",
    "        \n",
    "        q1[t]=np.sum(P[iL])+0.00001\n",
    "        q2[t]=np.sum(P[iR])+0.00001\n",
    "        mu1[t]= np.sum(iL*P[iL]/q1[t])\n",
    "        mu2[t]= np.sum(iR*P[iR]/q2[t])\n",
    "\n",
    "        va1[t]= np.sum((iL-mu1[t])**2* (P[iL]/ q1[t]))\n",
    "        va2[t]= np.sum((iR-mu2[t])**2* (P[iR]/ q2[t]))\n",
    "        #plt.plot(q1*va1 + q2*va2, color='red', alpha=0.4)\n",
    "        \n",
    "        #plt.pause(0.1)\n",
    "        #plt.draw()\n",
    "\n",
    "    #plt.show()\n",
    "    vartotal= q1*va1 + q2*va2\n",
    "    level=np.argmin(vartotal[1:255])\n",
    "    return level"
   ]
  },
  {
   "cell_type": "code",
   "execution_count": 6,
   "metadata": {},
   "outputs": [],
   "source": [
    "def segmentar(nombre):\n",
    "    #filtramos con apertura\n",
    "\n",
    "    output = apertura(nombre)\n",
    "    output = cv2.cvtColor(output,cv2.COLOR_BGR2GRAY)\n",
    "    output= generic_filter(output,filtro_gaussiano, [5,5])\n",
    "    #imagen filtrada\n",
    "    plt.figure(figsize=(10,10))\n",
    "    plt.imshow(output, cmap='gray')\n",
    "\n",
    "    #realizamos segmentacion\n",
    "    level = outsu(output)\n",
    "    ret, bin = cv2.threshold(output, level, 255,type=cv2.THRESH_BINARY)\n",
    "\n",
    "    #para invertir la imagen\n",
    "    bin = cv2.bitwise_not(bin)\n",
    "\n",
    "    return bin"
   ]
  },
  {
   "cell_type": "code",
   "execution_count": null,
   "metadata": {},
   "outputs": [],
   "source": [
    "images = imread_collection('lesiones/*.jpg')\n",
    "correct = imread_collection('ground_truth/*.png')\n",
    "\n",
    "all_images = zip(images, correct)\n",
    "c = 0\n",
    "\n",
    "f_media = []\n",
    "\n",
    "for imagen,ideal in all_images:\n",
    "  c = c +1\n",
    "  bin = segmentar(imagen)\n",
    "  plt.imshow(bin, cmap='gray')\n",
    "  plt.show()\n",
    "  print(c)\n",
    "  \n",
    "\n",
    "  f_score(bin, ideal)\n",
    "\n",
    "\n",
    "Test = len(f_media)\n",
    "print(Test)\n",
    "plt.plot(f_media)\n",
    "plt.show()\n",
    "f_media = np.mean(f_media)\n",
    "print(f\"Puntaje promedio: {f_media}\")"
   ]
  }
 ],
 "metadata": {
  "colab": {
   "collapsed_sections": [],
   "name": "Proyecto ProcIMG.ipynb",
   "provenance": []
  },
  "kernelspec": {
   "display_name": "Python 3 (ipykernel)",
   "language": "python",
   "name": "python3"
  },
  "language_info": {
   "codemirror_mode": {
    "name": "ipython",
    "version": 3
   },
   "file_extension": ".py",
   "mimetype": "text/x-python",
   "name": "python",
   "nbconvert_exporter": "python",
   "pygments_lexer": "ipython3",
   "version": "3.9.7"
  }
 },
 "nbformat": 4,
 "nbformat_minor": 1
}
